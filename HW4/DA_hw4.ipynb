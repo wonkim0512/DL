{
 "cells": [
  {
   "cell_type": "code",
   "execution_count": 11,
   "metadata": {
    "collapsed": false,
    "scrolled": true
   },
   "outputs": [],
   "source": [
    "import tensorflow as tf\n",
    "import numpy as np\n",
    "import matplotlib.pyplot as plt\n",
    "import random\n",
    "import math\n",
    "import scipy.misc"
   ]
  },
  {
   "cell_type": "code",
   "execution_count": 12,
   "metadata": {
    "collapsed": false
   },
   "outputs": [
    {
     "name": "stdout",
     "output_type": "stream",
     "text": [
      "Extracting ./mnist/data/train-images-idx3-ubyte.gz\n",
      "Extracting ./mnist/data/train-labels-idx1-ubyte.gz\n",
      "Extracting ./mnist/data/t10k-images-idx3-ubyte.gz\n",
      "Extracting ./mnist/data/t10k-labels-idx1-ubyte.gz\n"
     ]
    }
   ],
   "source": [
    "from tensorflow.examples.tutorials.mnist import input_data\n",
    "mnist = input_data.read_data_sets(\"./mnist/data/\", one_hot=True)"
   ]
  },
  {
   "cell_type": "code",
   "execution_count": 13,
   "metadata": {
    "collapsed": true
   },
   "outputs": [],
   "source": [
    "learning_rate = 0.01\n",
    "training_epoch = 20\n",
    "batch_size = 100\n",
    "n_hidden = 256  # the number of neurons in hidden layer\n",
    "\n",
    "# function of put_hole\n",
    "# create the hole to given images\n",
    "def put_hole(images):\n",
    "    \n",
    "    new_images = np.zeros(images.shape)\n",
    "    \n",
    "    for i in range(images.shape[0]):\n",
    "        img = np.copy(images[i])\n",
    "\n",
    "        x = np.random.randint(7,high=14)\n",
    "        y = np.random.randint(7,high=14)\n",
    "        img[x:x+7, y:y+7] = 0\n",
    "        new_images[i] = img\n",
    "        \n",
    "    return new_images"
   ]
  },
  {
   "cell_type": "code",
   "execution_count": 14,
   "metadata": {
    "collapsed": false
   },
   "outputs": [],
   "source": [
    "#TO DO: Define the placeholders X and Y for the denoising autoencoder\n"
   ]
  },
  {
   "cell_type": "code",
   "execution_count": 15,
   "metadata": {
    "collapsed": false
   },
   "outputs": [],
   "source": [
    "# typically the output size of encoder is smaller than input size of encode\n",
    "\n",
    "#TO DO: Implement the encoder of the denoising autoencoder\n"
   ]
  },
  {
   "cell_type": "code",
   "execution_count": 16,
   "metadata": {
    "collapsed": false
   },
   "outputs": [],
   "source": [
    "# the output size of decoder must be the same as the input image size\n",
    "\n",
    "#TO DO: Implement the decoder of the denoising autoencoder\n"
   ]
  },
  {
   "cell_type": "code",
   "execution_count": 17,
   "metadata": {
    "collapsed": false
   },
   "outputs": [],
   "source": [
    "#TO DO: Define the cost function and optimizer"
   ]
  },
  {
   "cell_type": "code",
   "execution_count": 18,
   "metadata": {
    "collapsed": true
   },
   "outputs": [],
   "source": [
    "init = tf.global_variables_initializer()\n",
    "sess = tf.Session()\n",
    "sess.run(init)"
   ]
  },
  {
   "cell_type": "code",
   "execution_count": 19,
   "metadata": {
    "collapsed": false
   },
   "outputs": [
    {
     "name": "stdout",
     "output_type": "stream",
     "text": [
      "Epoch: 0001 Avg. cost = 0.0000\n",
      "Epoch: 0002 Avg. cost = 0.0000\n",
      "Epoch: 0003 Avg. cost = 0.0000\n",
      "Epoch: 0004 Avg. cost = 0.0000\n",
      "Epoch: 0005 Avg. cost = 0.0000\n",
      "Epoch: 0006 Avg. cost = 0.0000\n",
      "Epoch: 0007 Avg. cost = 0.0000\n",
      "Epoch: 0008 Avg. cost = 0.0000\n",
      "Epoch: 0009 Avg. cost = 0.0000\n",
      "Epoch: 0010 Avg. cost = 0.0000\n",
      "Epoch: 0011 Avg. cost = 0.0000\n",
      "Epoch: 0012 Avg. cost = 0.0000\n",
      "Epoch: 0013 Avg. cost = 0.0000\n",
      "Epoch: 0014 Avg. cost = 0.0000\n",
      "Epoch: 0015 Avg. cost = 0.0000\n",
      "Epoch: 0016 Avg. cost = 0.0000\n",
      "Epoch: 0017 Avg. cost = 0.0000\n",
      "Epoch: 0018 Avg. cost = 0.0000\n",
      "Epoch: 0019 Avg. cost = 0.0000\n",
      "Epoch: 0020 Avg. cost = 0.0000\n"
     ]
    }
   ],
   "source": [
    "total_batch = int(mnist.train.num_examples/batch_size)\n",
    "for epoch in range(training_epoch):\n",
    "    total_cost = 0\n",
    "\n",
    "    for i in range(total_batch):\n",
    "        batch_xs, batch_ys = mnist.train.next_batch(batch_size)\n",
    "        hole_images = put_hole(batch_xs.reshape(-1,28,28,1)) # create the hole. you can reshape the hole_images\n",
    "\n",
    "    # TO DO:Implement to train part of the denoising autoencoder\n",
    "\n",
    "    print('Epoch:', '%04d' % (epoch + 1),\n",
    "          'Avg. cost =', '{:.4f}'.format(total_cost / total_batch))"
   ]
  },
  {
   "cell_type": "code",
   "execution_count": 20,
   "metadata": {
    "collapsed": false
   },
   "outputs": [
    {
     "ename": "NameError",
     "evalue": "name 'decoder' is not defined",
     "output_type": "error",
     "traceback": [
      "\u001b[0;31m---------------------------------------------------------------------------\u001b[0m",
      "\u001b[0;31mNameError\u001b[0m                                 Traceback (most recent call last)",
      "\u001b[0;32m<ipython-input-20-17f9bcd8d9e3>\u001b[0m in \u001b[0;36m<module>\u001b[0;34m()\u001b[0m\n\u001b[1;32m     14\u001b[0m         \u001b[0;31m# You can reshape the hole_images to fit the shape of the placeholder X\u001b[0m\u001b[0;34m\u001b[0m\u001b[0;34m\u001b[0m\u001b[0m\n\u001b[1;32m     15\u001b[0m \u001b[0;34m\u001b[0m\u001b[0m\n\u001b[0;32m---> 16\u001b[0;31m         \u001b[0mg\u001b[0m \u001b[0;34m=\u001b[0m \u001b[0msess\u001b[0m\u001b[0;34m.\u001b[0m\u001b[0mrun\u001b[0m\u001b[0;34m(\u001b[0m\u001b[0mdecoder\u001b[0m\u001b[0;34m,\u001b[0m \u001b[0mfeed_dict\u001b[0m\u001b[0;34m=\u001b[0m\u001b[0;34m{\u001b[0m\u001b[0mX\u001b[0m\u001b[0;34m:\u001b[0m \u001b[0mhole_images\u001b[0m\u001b[0;34m}\u001b[0m\u001b[0;34m)\u001b[0m\u001b[0;34m\u001b[0m\u001b[0m\n\u001b[0m\u001b[1;32m     17\u001b[0m \u001b[0;34m\u001b[0m\u001b[0m\n\u001b[1;32m     18\u001b[0m         \u001b[0mcanvas_input\u001b[0m\u001b[0;34m[\u001b[0m\u001b[0;36m0\u001b[0m\u001b[0;34m:\u001b[0m\u001b[0;36m28\u001b[0m\u001b[0;34m,\u001b[0m \u001b[0mi\u001b[0m \u001b[0;34m*\u001b[0m \u001b[0;36m28\u001b[0m\u001b[0;34m:\u001b[0m\u001b[0;34m(\u001b[0m\u001b[0mi\u001b[0m \u001b[0;34m+\u001b[0m \u001b[0;36m1\u001b[0m\u001b[0;34m)\u001b[0m \u001b[0;34m*\u001b[0m \u001b[0;36m28\u001b[0m\u001b[0;34m]\u001b[0m \u001b[0;34m=\u001b[0m \u001b[0minput_image\u001b[0m\u001b[0;34m[\u001b[0m\u001b[0mi\u001b[0m\u001b[0;34m]\u001b[0m\u001b[0;34m.\u001b[0m\u001b[0mreshape\u001b[0m\u001b[0;34m(\u001b[0m\u001b[0;34m[\u001b[0m\u001b[0;36m28\u001b[0m\u001b[0;34m,\u001b[0m \u001b[0;36m28\u001b[0m\u001b[0;34m]\u001b[0m\u001b[0;34m)\u001b[0m\u001b[0;34m\u001b[0m\u001b[0m\n",
      "\u001b[0;31mNameError\u001b[0m: name 'decoder' is not defined"
     ]
    }
   ],
   "source": [
    "# Testing\n",
    "# Encode and decode images from test set and visualize their reconstruction.\n",
    "n = 30\n",
    "canvas_input = np.empty((28, 28 * n))\n",
    "canvas_hole = np.empty((28, 28 * n))\n",
    "canvas_recon = np.empty((28, 28 * n))\n",
    "for j in range(3):\n",
    "    for i in range(n):\n",
    "        # MNIST test set\n",
    "        batch_x, _ = mnist.test.next_batch(100)\n",
    "        input_image = batch_x\n",
    "        hole_images = put_hole(batch_x.reshape(-1,28,28,1)) #create the holes\n",
    "        # TO DO: Implement to fill the hole images, you can reshape the hole_images\n",
    "        # You can reshape the hole_images to fit the shape of the placeholder X\n",
    "        # define the decoder in the decoder part\n",
    "        g = sess.run(decoder, feed_dict={X: hole_images})\n",
    "\n",
    "        canvas_input[0:28, i * 28:(i + 1) * 28] = input_image[i].reshape([28, 28])\n",
    "        canvas_hole[0:28, i * 28:(i + 1) * 28] = hole_images[i].reshape([28, 28])\n",
    "        canvas_recon[0:28, i * 28:(i + 1) * 28] = g[i].reshape([28, 28])\n",
    "\n",
    "    print(\"input Images\")     \n",
    "    plt.figure(figsize=(n, n))\n",
    "    plt.imshow(canvas_input, origin=\"upper\", cmap=\"gray\")\n",
    "    plt.show()\n",
    "\n",
    "    print(\"hole Images\")     \n",
    "    plt.figure(figsize=(n, n))\n",
    "    plt.imshow(canvas_hole, origin=\"upper\", cmap=\"gray\")\n",
    "    plt.show()\n",
    "\n",
    "    print(\"Reconstructed Images\")\n",
    "    plt.figure(figsize=(n, n))\n",
    "    plt.imshow(canvas_recon, origin=\"upper\", cmap=\"gray\")\n",
    "    plt.show()\n",
    "\n",
    "    out_image = np.concatenate((canvas_input,canvas_hole,canvas_recon ), axis=0)\n",
    "    plt.imsave('result{0}.png'.format(j), out_image, cmap=\"gray\")"
   ]
  },
  {
   "cell_type": "code",
   "execution_count": null,
   "metadata": {
    "collapsed": true
   },
   "outputs": [],
   "source": []
  },
  {
   "cell_type": "code",
   "execution_count": null,
   "metadata": {
    "collapsed": true
   },
   "outputs": [],
   "source": []
  },
  {
   "cell_type": "code",
   "execution_count": null,
   "metadata": {
    "collapsed": true
   },
   "outputs": [],
   "source": []
  }
 ],
 "metadata": {
  "kernelspec": {
   "display_name": "Python 3",
   "language": "python",
   "name": "python3"
  },
  "language_info": {
   "codemirror_mode": {
    "name": "ipython",
    "version": 3
   },
   "file_extension": ".py",
   "mimetype": "text/x-python",
   "name": "python",
   "nbconvert_exporter": "python",
   "pygments_lexer": "ipython3",
   "version": "3.6.0"
  }
 },
 "nbformat": 4,
 "nbformat_minor": 2
}
